{
 "cells": [
  {
   "cell_type": "code",
   "execution_count": 2,
   "metadata": {},
   "outputs": [
    {
     "name": "stdout",
     "output_type": "stream",
     "text": [
      "ENTER THE VALUE OF RADIUSOF THE CIRCLE: 1.1\n",
      "THE AREAOF CIRCLE WITH RADIUS 1.1 IS: 3.80132711\n"
     ]
    }
   ],
   "source": [
    "#PYTHON PROGRAM TO FIND AREA OF CIRCLE USING RADIUS\n",
    "\n",
    "from math import pi\n",
    "\n",
    "radius = float(input(\"ENTER THE VALUE OF RADIUSOF THE CIRCLE: \"))\n",
    "Area = pi*radius*radius\n",
    "\n",
    "print(\"THE AREAOF CIRCLE WITH RADIUS \" + str(radius) + \" IS: \" + str(\"%.8f\" %Area))"
   ]
  },
  {
   "cell_type": "code",
   "execution_count": null,
   "metadata": {},
   "outputs": [],
   "source": []
  }
 ],
 "metadata": {
  "kernelspec": {
   "display_name": "Python 3",
   "language": "python",
   "name": "python3"
  },
  "language_info": {
   "codemirror_mode": {
    "name": "ipython",
    "version": 3
   },
   "file_extension": ".py",
   "mimetype": "text/x-python",
   "name": "python",
   "nbconvert_exporter": "python",
   "pygments_lexer": "ipython3",
   "version": "3.8.3"
  }
 },
 "nbformat": 4,
 "nbformat_minor": 4
}
